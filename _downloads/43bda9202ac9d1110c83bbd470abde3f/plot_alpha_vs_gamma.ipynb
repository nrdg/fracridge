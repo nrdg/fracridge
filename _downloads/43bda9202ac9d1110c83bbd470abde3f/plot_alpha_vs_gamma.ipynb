{
  "cells": [
    {
      "cell_type": "code",
      "execution_count": null,
      "metadata": {
        "collapsed": false
      },
      "outputs": [],
      "source": [
        "%matplotlib inline"
      ]
    },
    {
      "cell_type": "markdown",
      "metadata": {},
      "source": [
        "\n# Comparing alpha and fracs\n\nHere we compare parameterization using fractional ridge regression (FRR) and\nstandard ridge regression (SRR).\n\nWe will use the cross-validation objects implemented for both of these methods.\nIn the case of SRR, we will use the Scikit Learn implementation in the\n:class:`sklearn.linear_model.RidgeCV` object. For FRR, we use the\n:class:`FracRidgeRegressorCV` object, which implements a similar API.\n"
      ]
    },
    {
      "cell_type": "markdown",
      "metadata": {},
      "source": [
        "Imports:\n\n\n"
      ]
    },
    {
      "cell_type": "code",
      "execution_count": null,
      "metadata": {
        "collapsed": false
      },
      "outputs": [],
      "source": [
        "import numpy as np\nfrom numpy.linalg import norm\nfrom sklearn.datasets import make_regression\nfrom sklearn.model_selection import train_test_split\nfrom sklearn.metrics import r2_score\nfrom sklearn.linear_model import RidgeCV, LinearRegression\nfrom fracridge import FracRidgeRegressorCV"
      ]
    },
    {
      "cell_type": "markdown",
      "metadata": {},
      "source": [
        "Here, we use a synthetic dataset. We generate a regression dataset\nwith multiple targets, multiple samples, a large number of features\nand plenty of redundancy between them (set through the\nrelatively small `effective_rank` of the design matrix):\n\n\n"
      ]
    },
    {
      "cell_type": "code",
      "execution_count": null,
      "metadata": {
        "collapsed": false
      },
      "outputs": [],
      "source": [
        "np.random.seed(1984)\n\nn_targets = 15\nn_features = 80\neffective_rank = 20\nX, y, coef_true = make_regression(\n                    n_samples=250,\n                    n_features=n_features,\n                    effective_rank=effective_rank,\n                    n_targets=n_targets,\n                    coef=True,\n                    noise=5)"
      ]
    },
    {
      "cell_type": "markdown",
      "metadata": {},
      "source": [
        "To evaluate and compare the performance of the two algorithms, we\nsplit the data into test and train sets:\n\n"
      ]
    },
    {
      "cell_type": "code",
      "execution_count": null,
      "metadata": {
        "collapsed": false
      },
      "outputs": [],
      "source": [
        "X_train, X_test, y_train, y_test = train_test_split(X, y)"
      ]
    },
    {
      "cell_type": "markdown",
      "metadata": {},
      "source": [
        "We will start with SRR. We use a dense grid of alphas with 20\nlog-spaced values -- a common heuristic used to ensure a wide sampling\nof alpha values\n\n"
      ]
    },
    {
      "cell_type": "code",
      "execution_count": null,
      "metadata": {
        "collapsed": false
      },
      "outputs": [],
      "source": [
        "n_alphas = 20\nsrr_alphas = np.logspace(-10, 10, n_alphas)\nsrr = RidgeCV(alphas=srr_alphas)\nsrr.fit(X_train, y_train)"
      ]
    },
    {
      "cell_type": "markdown",
      "metadata": {},
      "source": [
        "We sample the same number of fractions for FRR, evenly distributed between\n1/n_alphas and 1.\n\n\n"
      ]
    },
    {
      "cell_type": "code",
      "execution_count": null,
      "metadata": {
        "collapsed": false
      },
      "outputs": [],
      "source": [
        "fracs = np.linspace(1/n_alphas, 1 + 1/n_alphas, n_alphas)\nfrr = FracRidgeRegressorCV()\nfrr.fit(X_train, y_train, frac_grid=fracs)"
      ]
    },
    {
      "cell_type": "markdown",
      "metadata": {},
      "source": [
        "Both models are fit and used to predict a left out set. Performance\nof the models is compared using the :func:`sklearn.metrics.r2_score`\nfunction (coefficient of determination).\n\n"
      ]
    },
    {
      "cell_type": "code",
      "execution_count": null,
      "metadata": {
        "collapsed": false
      },
      "outputs": [],
      "source": [
        "pred_frr = frr.predict(X_test)\npred_srr = srr.predict(X_test)\n\nfrr_r2 = r2_score(y_test, pred_frr)\nsrr_r2 = r2_score(y_test, pred_srr)\n\nprint(frr_r2)\nprint(srr_r2)"
      ]
    },
    {
      "cell_type": "markdown",
      "metadata": {},
      "source": [
        "In addition to a direct comparison of performance, we might ask what are the\ndifferences in terms of how the models have reached this point.\nThe FRR CV estimator has a property that tells us what has been discovered\nas the best fraction (or 'gamma') to use:\n\n"
      ]
    },
    {
      "cell_type": "code",
      "execution_count": null,
      "metadata": {
        "collapsed": false
      },
      "outputs": [],
      "source": [
        "print(frr.best_frac_)"
      ]
    },
    {
      "cell_type": "markdown",
      "metadata": {},
      "source": [
        "We can also ask what `alpha` value was deemed best. For the\nmulti-target case presented here, this will be a vector of values,\none for each target:\n\n"
      ]
    },
    {
      "cell_type": "code",
      "execution_count": null,
      "metadata": {
        "collapsed": false
      },
      "outputs": [],
      "source": [
        "print(frr.alpha_)"
      ]
    },
    {
      "cell_type": "markdown",
      "metadata": {},
      "source": [
        "In contrast, the SRR estimator has just one value of `alpha`:\n\n"
      ]
    },
    {
      "cell_type": "code",
      "execution_count": null,
      "metadata": {
        "collapsed": false
      },
      "outputs": [],
      "source": [
        "print(srr.alpha_)"
      ]
    },
    {
      "cell_type": "markdown",
      "metadata": {},
      "source": [
        "But this one value causes many different changes in the coefficient\n\n\n"
      ]
    },
    {
      "cell_type": "code",
      "execution_count": null,
      "metadata": {
        "collapsed": false
      },
      "outputs": [],
      "source": [
        "lr = LinearRegression()\nfrr.fit(X, y)\nsrr.fit(X, y)\nlr.fit(X, y)\n\nprint(norm(frr.coef_, axis=0)  / norm(lr.coef_, axis=-1))\nprint(norm(srr.coef_, axis=-1)  / norm(lr.coef_, axis=-1))\n\nprint(srr.best_score_)\nprint(frr.best_score_)"
      ]
    }
  ],
  "metadata": {
    "kernelspec": {
      "display_name": "Python 3",
      "language": "python",
      "name": "python3"
    },
    "language_info": {
      "codemirror_mode": {
        "name": "ipython",
        "version": 3
      },
      "file_extension": ".py",
      "mimetype": "text/x-python",
      "name": "python",
      "nbconvert_exporter": "python",
      "pygments_lexer": "ipython3",
      "version": "3.9.12"
    }
  },
  "nbformat": 4,
  "nbformat_minor": 0
}