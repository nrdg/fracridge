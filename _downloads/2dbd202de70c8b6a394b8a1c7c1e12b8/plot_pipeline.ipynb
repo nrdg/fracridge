{
  "cells": [
    {
      "cell_type": "code",
      "execution_count": null,
      "metadata": {
        "collapsed": false
      },
      "outputs": [],
      "source": [
        "%matplotlib inline"
      ]
    },
    {
      "cell_type": "markdown",
      "metadata": {},
      "source": [
        "\n# Integrating FracRidge objects into sklearn pipelines\n\nBecause ``Fracridge`` is implemented using a Scikit-Learn-compatible API,\nthe objects in the library can be integrated into pipelines that use\nobjects from the Scikit Learn library.\n\nFor example, here we will demonstrate a dimensionality reduction followed\nby a grid search to find the best fraction for the fraction parameter.\n"
      ]
    },
    {
      "cell_type": "markdown",
      "metadata": {},
      "source": [
        "Imports\n\n\n"
      ]
    },
    {
      "cell_type": "code",
      "execution_count": null,
      "metadata": {
        "collapsed": false
      },
      "outputs": [],
      "source": [
        "import numpy as np\nimport matplotlib.pyplot as plt\n\nfrom sklearn.decomposition import PCA\nfrom sklearn.pipeline import Pipeline\nfrom sklearn.datasets import make_regression\n\nfrom fracridge import FracRidgeRegressorCV"
      ]
    },
    {
      "cell_type": "markdown",
      "metadata": {},
      "source": [
        "We generate synthetic data\n\n\n"
      ]
    },
    {
      "cell_type": "code",
      "execution_count": null,
      "metadata": {
        "collapsed": false
      },
      "outputs": [],
      "source": [
        "np.random.seed(1984)\nn_targets = 15\nn_features = 80\neffective_rank = 20\nX, y, coef_true = make_regression(\n                    n_samples=250,\n                    n_features=n_features,\n                    effective_rank=effective_rank,\n                    n_targets=n_targets,\n                    coef=True,\n                    noise=10)"
      ]
    },
    {
      "cell_type": "markdown",
      "metadata": {},
      "source": [
        "Iterating over the number of features, we generate design matrices that have\nmore and more dimensions in them. As the number of data dimensions grows, the\nbest fraction for FracRidge decreases.\n\n"
      ]
    },
    {
      "cell_type": "code",
      "execution_count": null,
      "metadata": {
        "collapsed": false
      },
      "outputs": [],
      "source": [
        "best_fracs = []\n\nfor n_components in range(2, X.shape[-1], 5):\n    pca = PCA(n_components=n_components)\n    frcv = FracRidgeRegressorCV()\n    pipeline = Pipeline(steps=[('pca', pca), ('fracridgecv', frcv)])\n    pipeline.fit(X, y)\n    best_fracs.append(pipeline['fracridgecv'].best_frac_)\n\nfig, ax = plt.subplots()\nax.plot(range(2, X.shape[-1], 5), best_fracs, 'o-')\nax.set_ylim([0, 1])\nax.set_ylabel(\"Best fraction\")\nax.set_xlabel(\"Number of PCA components\")\n\nplt.show()"
      ]
    }
  ],
  "metadata": {
    "kernelspec": {
      "display_name": "Python 3",
      "language": "python",
      "name": "python3"
    },
    "language_info": {
      "codemirror_mode": {
        "name": "ipython",
        "version": 3
      },
      "file_extension": ".py",
      "mimetype": "text/x-python",
      "name": "python",
      "nbconvert_exporter": "python",
      "pygments_lexer": "ipython3",
      "version": "3.9.12"
    }
  },
  "nbformat": 4,
  "nbformat_minor": 0
}