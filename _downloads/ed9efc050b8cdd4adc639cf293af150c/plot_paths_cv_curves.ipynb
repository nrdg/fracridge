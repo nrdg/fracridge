{
  "cells": [
    {
      "cell_type": "code",
      "execution_count": null,
      "metadata": {
        "collapsed": false
      },
      "outputs": [],
      "source": [
        "%matplotlib inline"
      ]
    },
    {
      "cell_type": "markdown",
      "metadata": {},
      "source": [
        "\n# Coefficient paths and cross-validation curves\n\nThis example demonstrates some of the properties of the FRR approach and\ncompares it to the use of standard ridge regression (RR) on the diabetes\ndataset that is included in sckit-learn.\n\nIn standard ridge regression, it is common to select alpha by testing a\nrange of log-spaced values between very minimal regularization and\nvery strong regularization. In fractional ridge regression, we instead\nselect a set of ``frac`` values that represent the desired reduction in\nthe L2-norm of the coefficients.\n"
      ]
    },
    {
      "cell_type": "markdown",
      "metadata": {},
      "source": [
        "Imports:\n\n\n"
      ]
    },
    {
      "cell_type": "code",
      "execution_count": null,
      "metadata": {
        "collapsed": false
      },
      "outputs": [],
      "source": [
        "import numpy as np\nimport matplotlib.pyplot as plt"
      ]
    },
    {
      "cell_type": "markdown",
      "metadata": {},
      "source": [
        "This is the Fracridge sklearn-style estimator:\n\n\n"
      ]
    },
    {
      "cell_type": "code",
      "execution_count": null,
      "metadata": {
        "collapsed": false
      },
      "outputs": [],
      "source": [
        "from fracridge import FracRidgeRegressor\n\nfrom sklearn import datasets\nfrom sklearn.linear_model import Ridge\nfrom sklearn.model_selection import cross_val_predict\nfrom sklearn.metrics import r2_score"
      ]
    },
    {
      "cell_type": "markdown",
      "metadata": {},
      "source": [
        "Get example data from scikit learn:\n\n\n"
      ]
    },
    {
      "cell_type": "code",
      "execution_count": null,
      "metadata": {
        "collapsed": false
      },
      "outputs": [],
      "source": [
        "X, y = datasets.load_diabetes(return_X_y=True)"
      ]
    },
    {
      "cell_type": "markdown",
      "metadata": {},
      "source": [
        "Values of alpha for the standard approach are set to be 20 values\nThat are log-spaced from a very small value to a very large value:\n\n\n"
      ]
    },
    {
      "cell_type": "code",
      "execution_count": null,
      "metadata": {
        "collapsed": false
      },
      "outputs": [],
      "source": [
        "n_alphas = 20\nrr_alphas = np.logspace(-10, 10, n_alphas)\nrr_coefs = []\nrr_coefs = np.zeros((X.shape[-1], n_alphas))\nrr_pred = np.zeros((y.shape[-1], n_alphas))"
      ]
    },
    {
      "cell_type": "markdown",
      "metadata": {},
      "source": [
        "We calculate the fit and cross-validated prediction for each value of\nalpha:\n\n"
      ]
    },
    {
      "cell_type": "code",
      "execution_count": null,
      "metadata": {
        "collapsed": false
      },
      "outputs": [],
      "source": [
        "for aa in range(len(rr_alphas)):\n    RR = Ridge(alpha=rr_alphas[aa], fit_intercept=True)\n    RR.fit(X, y)\n    rr_coefs[:, aa] = RR.coef_\n    rr_pred[:, aa] = cross_val_predict(RR, X, y)"
      ]
    },
    {
      "cell_type": "markdown",
      "metadata": {},
      "source": [
        "In contrast, FRR takes as inputs fractions, rather than arbitrarily-chosen\nvalues of alpha. The alphas that are generated are selected to produce\nsolutions whos fractional L2-norm relative to the L2-norm of the\nunregularized solution are these values. Here too, cross-validated\npredictions are generated:\n\n"
      ]
    },
    {
      "cell_type": "code",
      "execution_count": null,
      "metadata": {
        "collapsed": false
      },
      "outputs": [],
      "source": [
        "fracs = np.linspace(0, 1, n_alphas)\nFR = FracRidgeRegressor(fracs=fracs, fit_intercept=True)\nFR.fit(X, y)\nfr_pred = cross_val_predict(FR, X, y)"
      ]
    },
    {
      "cell_type": "markdown",
      "metadata": {},
      "source": [
        "We plot the results. First, the FRR coefficients as a function of requested\nfractions and then the RR coefficient as a function of the requested\nlog-spaced alpha:\n\n"
      ]
    },
    {
      "cell_type": "code",
      "execution_count": null,
      "metadata": {
        "collapsed": false
      },
      "outputs": [],
      "source": [
        "fig, ax = plt.subplots(1, 2)\nax[0].plot(fracs, FR.coef_.T)\nylims = ax[0].get_ylim()\nax[0].vlines(fracs, ylims[0], ylims[1], linewidth=0.5, color='gray')\nax[0].set_ylim(*ylims)\nax[1].plot(np.log(rr_alphas[::-1]), rr_coefs.T)\nylims = ax[1].get_ylim()\nax[1].vlines(np.log(rr_alphas[::-1]), ylims[0], ylims[1], linewidth=0.5,\n             color='gray')\nax[1].set_ylim(*ylims)"
      ]
    },
    {
      "cell_type": "markdown",
      "metadata": {},
      "source": [
        "In a second plot, we compare the cross-validated predictions with the\noriginal data. This is appropriate as each prediction was generated in a\nsample that did not include that observation.\n\n"
      ]
    },
    {
      "cell_type": "code",
      "execution_count": null,
      "metadata": {
        "collapsed": false
      },
      "outputs": [],
      "source": [
        "test_y = np.tile(y, (fr_pred.shape[-1], 1)).T\n\nrr_r2 = r2_score(test_y, rr_pred, multioutput=\"raw_values\")\nfr_r2 = r2_score(test_y, fr_pred, multioutput=\"raw_values\")\n\nfig, ax = plt.subplots(1, 2, sharey=True)\nax[0].plot(fracs, fr_r2, 'o-')\nylims = ax[0].get_ylim()\nax[0].vlines(fracs, ylims[0], ylims[1], linewidth=0.5, color='gray')\nax[0].set_ylim(*ylims)\n\nax[1].plot(np.log(rr_alphas[::-1]), rr_r2, 'o-')\nylims = ax[1].get_ylim()\nax[1].vlines(np.log(rr_alphas[::-1]), ylims[0], ylims[1], linewidth=0.5,\n             color='gray')\nax[1].set_ylim(*ylims)\n\n\nplt.show()"
      ]
    }
  ],
  "metadata": {
    "kernelspec": {
      "display_name": "Python 3",
      "language": "python",
      "name": "python3"
    },
    "language_info": {
      "codemirror_mode": {
        "name": "ipython",
        "version": 3
      },
      "file_extension": ".py",
      "mimetype": "text/x-python",
      "name": "python",
      "nbconvert_exporter": "python",
      "pygments_lexer": "ipython3",
      "version": "3.7.12"
    }
  },
  "nbformat": 4,
  "nbformat_minor": 0
}